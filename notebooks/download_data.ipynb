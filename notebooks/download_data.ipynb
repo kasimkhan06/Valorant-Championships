{
 "cells": [
  {
   "cell_type": "markdown",
   "id": "72b4718f",
   "metadata": {},
   "source": [
    "## Download Dataset Using the Kaggle API"
   ]
  },
  {
   "cell_type": "markdown",
   "id": "e1aa7935",
   "metadata": {},
   "source": [
    "**Documention** : \n",
    "[https://www.kaggle.com/docs/api](https://www.kaggle.com/docs/api) <br>\n",
    "**Dataset Link** :\n",
    "[https://www.kaggle.com/datasets/ryanluong1/valorant-champion-tour-2021-2023-data](https://www.kaggle.com/datasets/ryanluong1/valorant-champion-tour-2021-2023-data)"
   ]
  },
  {
   "cell_type": "code",
   "execution_count": 1,
   "id": "6bee76ea",
   "metadata": {},
   "outputs": [
    {
     "name": "stdout",
     "output_type": "stream",
     "text": [
      "Dataset URL: https://www.kaggle.com/datasets/ryanluong1/valorant-champion-tour-2021-2023-data\n"
     ]
    }
   ],
   "source": [
    "import kaggle\n",
    "kaggle.api.dataset_download_files('ryanluong1/valorant-champion-tour-2021-2023-data' , path = '../data/raw' , unzip=True)"
   ]
  }
 ],
 "metadata": {
  "kernelspec": {
   "display_name": ".venv",
   "language": "python",
   "name": "python3"
  },
  "language_info": {
   "codemirror_mode": {
    "name": "ipython",
    "version": 3
   },
   "file_extension": ".py",
   "mimetype": "text/x-python",
   "name": "python",
   "nbconvert_exporter": "python",
   "pygments_lexer": "ipython3",
   "version": "3.12.3"
  }
 },
 "nbformat": 4,
 "nbformat_minor": 5
}
