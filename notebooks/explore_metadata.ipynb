{
 "cells": [
  {
   "cell_type": "markdown",
   "id": "8f0c825b",
   "metadata": {},
   "source": [
    "### Exploring the MetaData\n",
    "**Exploring the all_ids folder to understand the players and matches**"
   ]
  },
  {
   "cell_type": "code",
   "execution_count": 4,
   "id": "6bcbd50b",
   "metadata": {},
   "outputs": [],
   "source": [
    "# necessary imports\n",
    "import numpy as np \n",
    "import pandas as pd\n",
    "import matplotlib.pyplot as plt\n",
    "import seaborn as sns\n",
    "%matplotlib inline\n",
    "pd.set_option('display.max_columns',None)"
   ]
  },
  {
   "cell_type": "code",
   "execution_count": 5,
   "id": "3f0fda67",
   "metadata": {},
   "outputs": [],
   "source": [
    "# import the dataset\n",
    "player_ids = pd.read_csv('../data/raw/all_ids/all_players_ids.csv')"
   ]
  },
  {
   "cell_type": "code",
   "execution_count": 6,
   "id": "57837e2a",
   "metadata": {},
   "outputs": [
    {
     "data": {
      "text/html": [
       "<div>\n",
       "<style scoped>\n",
       "    .dataframe tbody tr th:only-of-type {\n",
       "        vertical-align: middle;\n",
       "    }\n",
       "\n",
       "    .dataframe tbody tr th {\n",
       "        vertical-align: top;\n",
       "    }\n",
       "\n",
       "    .dataframe thead th {\n",
       "        text-align: right;\n",
       "    }\n",
       "</style>\n",
       "<table border=\"1\" class=\"dataframe\">\n",
       "  <thead>\n",
       "    <tr style=\"text-align: right;\">\n",
       "      <th></th>\n",
       "      <th>Player</th>\n",
       "      <th>Player ID</th>\n",
       "    </tr>\n",
       "  </thead>\n",
       "  <tbody>\n",
       "    <tr>\n",
       "      <th>0</th>\n",
       "      <td>MaKo</td>\n",
       "      <td>4462.0</td>\n",
       "    </tr>\n",
       "    <tr>\n",
       "      <th>1</th>\n",
       "      <td>stax</td>\n",
       "      <td>485.0</td>\n",
       "    </tr>\n",
       "    <tr>\n",
       "      <th>2</th>\n",
       "      <td>Rb</td>\n",
       "      <td>488.0</td>\n",
       "    </tr>\n",
       "    <tr>\n",
       "      <th>3</th>\n",
       "      <td>k1Ng</td>\n",
       "      <td>771.0</td>\n",
       "    </tr>\n",
       "    <tr>\n",
       "      <th>4</th>\n",
       "      <td>BuZz</td>\n",
       "      <td>804.0</td>\n",
       "    </tr>\n",
       "    <tr>\n",
       "      <th>...</th>\n",
       "      <td>...</td>\n",
       "      <td>...</td>\n",
       "    </tr>\n",
       "    <tr>\n",
       "      <th>15515</th>\n",
       "      <td>N4RRATE</td>\n",
       "      <td>36245.0</td>\n",
       "    </tr>\n",
       "    <tr>\n",
       "      <th>15516</th>\n",
       "      <td>tomaszy</td>\n",
       "      <td>19691.0</td>\n",
       "    </tr>\n",
       "    <tr>\n",
       "      <th>15517</th>\n",
       "      <td>Levius</td>\n",
       "      <td>40845.0</td>\n",
       "    </tr>\n",
       "    <tr>\n",
       "      <th>15518</th>\n",
       "      <td>QiuYe</td>\n",
       "      <td>19531.0</td>\n",
       "    </tr>\n",
       "    <tr>\n",
       "      <th>15519</th>\n",
       "      <td>Dingwei</td>\n",
       "      <td>42513.0</td>\n",
       "    </tr>\n",
       "  </tbody>\n",
       "</table>\n",
       "<p>15520 rows × 2 columns</p>\n",
       "</div>"
      ],
      "text/plain": [
       "        Player  Player ID\n",
       "0         MaKo     4462.0\n",
       "1         stax      485.0\n",
       "2           Rb      488.0\n",
       "3         k1Ng      771.0\n",
       "4         BuZz      804.0\n",
       "...        ...        ...\n",
       "15515  N4RRATE    36245.0\n",
       "15516  tomaszy    19691.0\n",
       "15517   Levius    40845.0\n",
       "15518    QiuYe    19531.0\n",
       "15519  Dingwei    42513.0\n",
       "\n",
       "[15520 rows x 2 columns]"
      ]
     },
     "execution_count": 6,
     "metadata": {},
     "output_type": "execute_result"
    }
   ],
   "source": [
    "player_ids"
   ]
  },
  {
   "cell_type": "code",
   "execution_count": null,
   "id": "a707d26e",
   "metadata": {},
   "outputs": [],
   "source": []
  }
 ],
 "metadata": {
  "kernelspec": {
   "display_name": ".venv",
   "language": "python",
   "name": "python3"
  },
  "language_info": {
   "codemirror_mode": {
    "name": "ipython",
    "version": 3
   },
   "file_extension": ".py",
   "mimetype": "text/x-python",
   "name": "python",
   "nbconvert_exporter": "python",
   "pygments_lexer": "ipython3",
   "version": "3.12.3"
  }
 },
 "nbformat": 4,
 "nbformat_minor": 5
}
